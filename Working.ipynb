{
  "nbformat": 4,
  "nbformat_minor": 0,
  "metadata": {
    "colab": {
      "name": "Untitled12.ipynb",
      "version": "0.3.2",
      "provenance": [],
      "include_colab_link": true
    },
    "kernelspec": {
      "name": "python3",
      "display_name": "Python 3"
    }
  },
  "cells": [
    {
      "cell_type": "markdown",
      "metadata": {
        "id": "view-in-github",
        "colab_type": "text"
      },
      "source": [
        "<a href=\"https://colab.research.google.com/github/stanimman/CS224N/blob/master/Working.ipynb\" target=\"_parent\"><img src=\"https://colab.research.google.com/assets/colab-badge.svg\" alt=\"Open In Colab\"/></a>"
      ]
    },
    {
      "cell_type": "code",
      "metadata": {
        "id": "mvtlUf29E1kG",
        "colab_type": "code",
        "colab": {}
      },
      "source": [
        "import torch\n",
        "import numpy as np\n",
        "import pandas as pd"
      ],
      "execution_count": 0,
      "outputs": []
    },
    {
      "cell_type": "code",
      "metadata": {
        "id": "PTUCOS8QFO-C",
        "colab_type": "code",
        "outputId": "c90aa95a-8ded-4c03-c957-f6dd82916639",
        "colab": {
          "base_uri": "https://localhost:8080/",
          "height": 34
        }
      },
      "source": [
        "print(torch.__version__)"
      ],
      "execution_count": 2,
      "outputs": [
        {
          "output_type": "stream",
          "text": [
            "1.1.0\n"
          ],
          "name": "stdout"
        }
      ]
    },
    {
      "cell_type": "code",
      "metadata": {
        "id": "sYYwJZJGFg1T",
        "colab_type": "code",
        "colab": {}
      },
      "source": [
        "m = np.array([[1,6,3],[2,4,1],[6,4,2],[2,5,4],[4,6,1]]).astype(float)"
      ],
      "execution_count": 0,
      "outputs": []
    },
    {
      "cell_type": "code",
      "metadata": {
        "id": "uzXPe1z3FsBT",
        "colab_type": "code",
        "outputId": "4234a614-5b81-40fe-90e6-86b9878ca219",
        "colab": {
          "base_uri": "https://localhost:8080/",
          "height": 102
        }
      },
      "source": [
        "m"
      ],
      "execution_count": 4,
      "outputs": [
        {
          "output_type": "execute_result",
          "data": {
            "text/plain": [
              "array([[1., 6., 3.],\n",
              "       [2., 4., 1.],\n",
              "       [6., 4., 2.],\n",
              "       [2., 5., 4.],\n",
              "       [4., 6., 1.]])"
            ]
          },
          "metadata": {
            "tags": []
          },
          "execution_count": 4
        }
      ]
    },
    {
      "cell_type": "code",
      "metadata": {
        "id": "46T8HVL_Fs4r",
        "colab_type": "code",
        "colab": {}
      },
      "source": [
        "outsideVectors = torch.from_numpy(m).float()"
      ],
      "execution_count": 0,
      "outputs": []
    },
    {
      "cell_type": "code",
      "metadata": {
        "id": "GD2uyL7HXkQ0",
        "colab_type": "code",
        "outputId": "8c7f386d-6df8-43b8-9c39-fdcd3d93ddfe",
        "colab": {
          "base_uri": "https://localhost:8080/",
          "height": 71
        }
      },
      "source": [
        "outsideVectors = torch.tensor(outsideVectors,requires_grad=True)"
      ],
      "execution_count": 43,
      "outputs": [
        {
          "output_type": "stream",
          "text": [
            "/usr/local/lib/python3.6/dist-packages/ipykernel_launcher.py:1: UserWarning: To copy construct from a tensor, it is recommended to use sourceTensor.clone().detach() or sourceTensor.clone().detach().requires_grad_(True), rather than torch.tensor(sourceTensor).\n",
            "  \"\"\"Entry point for launching an IPython kernel.\n"
          ],
          "name": "stderr"
        }
      ]
    },
    {
      "cell_type": "code",
      "metadata": {
        "id": "Sj8RQG_SH3Ar",
        "colab_type": "code",
        "outputId": "cb48e04c-4b2a-4a8c-8dac-c10d97e76ca8",
        "colab": {
          "base_uri": "https://localhost:8080/",
          "height": 34
        }
      },
      "source": [
        "print(centerWordVec.dtype)"
      ],
      "execution_count": 44,
      "outputs": [
        {
          "output_type": "stream",
          "text": [
            "torch.float32\n"
          ],
          "name": "stdout"
        }
      ]
    },
    {
      "cell_type": "code",
      "metadata": {
        "id": "mYCNi0aVGVso",
        "colab_type": "code",
        "outputId": "5a6432b1-1cbe-4882-aea3-ee0d079389c1",
        "colab": {
          "base_uri": "https://localhost:8080/",
          "height": 71
        }
      },
      "source": [
        "centerWordVec = torch.tensor([[1,1,1]]).float()\n",
        "centerWordVec = torch.tensor(centerWordVec,requires_grad=True)"
      ],
      "execution_count": 45,
      "outputs": [
        {
          "output_type": "stream",
          "text": [
            "/usr/local/lib/python3.6/dist-packages/ipykernel_launcher.py:2: UserWarning: To copy construct from a tensor, it is recommended to use sourceTensor.clone().detach() or sourceTensor.clone().detach().requires_grad_(True), rather than torch.tensor(sourceTensor).\n",
            "  \n"
          ],
          "name": "stderr"
        }
      ]
    },
    {
      "cell_type": "code",
      "metadata": {
        "id": "qE00ZsEvOKIu",
        "colab_type": "code",
        "outputId": "51214932-f9ad-4468-fae2-8660414ecb4b",
        "colab": {
          "base_uri": "https://localhost:8080/",
          "height": 34
        }
      },
      "source": [
        "centerWordVec"
      ],
      "execution_count": 46,
      "outputs": [
        {
          "output_type": "execute_result",
          "data": {
            "text/plain": [
              "tensor([[1., 1., 1.]], requires_grad=True)"
            ]
          },
          "metadata": {
            "tags": []
          },
          "execution_count": 46
        }
      ]
    },
    {
      "cell_type": "code",
      "metadata": {
        "id": "sAbqBgDzGWoR",
        "colab_type": "code",
        "colab": {}
      },
      "source": [
        "import torch.nn.functional as F"
      ],
      "execution_count": 0,
      "outputs": []
    },
    {
      "cell_type": "code",
      "metadata": {
        "id": "nteOG5DcT6fL",
        "colab_type": "code",
        "outputId": "1cbfbb1b-854d-4aec-f4ab-bb047771830a",
        "colab": {
          "base_uri": "https://localhost:8080/",
          "height": 34
        }
      },
      "source": [
        "outsideVectors.shape"
      ],
      "execution_count": 48,
      "outputs": [
        {
          "output_type": "execute_result",
          "data": {
            "text/plain": [
              "torch.Size([5, 3])"
            ]
          },
          "metadata": {
            "tags": []
          },
          "execution_count": 48
        }
      ]
    },
    {
      "cell_type": "code",
      "metadata": {
        "id": "HoPDRxQxT9Ah",
        "colab_type": "code",
        "outputId": "cd605e4a-2b74-4ec7-9229-e9cc2f08a0f3",
        "colab": {
          "base_uri": "https://localhost:8080/",
          "height": 34
        }
      },
      "source": [
        "centerWordVec.shape"
      ],
      "execution_count": 49,
      "outputs": [
        {
          "output_type": "execute_result",
          "data": {
            "text/plain": [
              "torch.Size([1, 3])"
            ]
          },
          "metadata": {
            "tags": []
          },
          "execution_count": 49
        }
      ]
    },
    {
      "cell_type": "code",
      "metadata": {
        "id": "8YBgqshGQyIU",
        "colab_type": "code",
        "colab": {}
      },
      "source": [
        "x = torch.mm(outsideVectors,centerWordVec.t())"
      ],
      "execution_count": 0,
      "outputs": []
    },
    {
      "cell_type": "code",
      "metadata": {
        "id": "sU7ZCIGyUsR5",
        "colab_type": "code",
        "outputId": "b5b68026-8a13-4e18-a188-d3082d87cc53",
        "colab": {
          "base_uri": "https://localhost:8080/",
          "height": 102
        }
      },
      "source": [
        "x"
      ],
      "execution_count": 51,
      "outputs": [
        {
          "output_type": "execute_result",
          "data": {
            "text/plain": [
              "tensor([[10.],\n",
              "        [ 7.],\n",
              "        [12.],\n",
              "        [11.],\n",
              "        [11.]], grad_fn=<MmBackward>)"
            ]
          },
          "metadata": {
            "tags": []
          },
          "execution_count": 51
        }
      ]
    },
    {
      "cell_type": "code",
      "metadata": {
        "id": "BpgUfeAONnxq",
        "colab_type": "code",
        "colab": {}
      },
      "source": [
        "y_hat = F.softmax(x,dim=0)"
      ],
      "execution_count": 0,
      "outputs": []
    },
    {
      "cell_type": "code",
      "metadata": {
        "id": "waD5YWWvVUiX",
        "colab_type": "code",
        "colab": {}
      },
      "source": [
        "loss1  = -torch.log(y_hat[1])"
      ],
      "execution_count": 0,
      "outputs": []
    },
    {
      "cell_type": "code",
      "metadata": {
        "id": "DrvH802DALPQ",
        "colab_type": "code",
        "colab": {}
      },
      "source": [
        "loss3 = -torch.log(y_hat[3])"
      ],
      "execution_count": 0,
      "outputs": []
    },
    {
      "cell_type": "code",
      "metadata": {
        "id": "jBAC3ku8AcbJ",
        "colab_type": "code",
        "colab": {}
      },
      "source": [
        "loss = loss1+loss3"
      ],
      "execution_count": 0,
      "outputs": []
    },
    {
      "cell_type": "code",
      "metadata": {
        "id": "0OS060TWBQYJ",
        "colab_type": "code",
        "colab": {
          "base_uri": "https://localhost:8080/",
          "height": 34
        },
        "outputId": "8a5f8727-1ac2-4a61-a9b9-6164f9d8a822"
      },
      "source": [
        "loss"
      ],
      "execution_count": 57,
      "outputs": [
        {
          "output_type": "execute_result",
          "data": {
            "text/plain": [
              "tensor([7.2602], grad_fn=<AddBackward0>)"
            ]
          },
          "metadata": {
            "tags": []
          },
          "execution_count": 57
        }
      ]
    },
    {
      "cell_type": "code",
      "metadata": {
        "id": "MPpAJH2JVx-B",
        "colab_type": "code",
        "colab": {}
      },
      "source": [
        "loss.backward()"
      ],
      "execution_count": 0,
      "outputs": []
    },
    {
      "cell_type": "code",
      "metadata": {
        "id": "FpYkCZ8sX07D",
        "colab_type": "code",
        "outputId": "9ac0abbf-d76c-425d-fa76-bdaf94e17299",
        "colab": {
          "base_uri": "https://localhost:8080/",
          "height": 102
        }
      },
      "source": [
        "print(outsideVectors.grad)"
      ],
      "execution_count": 58,
      "outputs": [
        {
          "output_type": "stream",
          "text": [
            "tensor([[ 0.1441,  0.1441,  0.1441],\n",
            "        [-0.9928, -0.9928, -0.9928],\n",
            "        [ 1.0651,  1.0651,  1.0651],\n",
            "        [-0.6082, -0.6082, -0.6082],\n",
            "        [ 0.3918,  0.3918,  0.3918]])\n"
          ],
          "name": "stdout"
        }
      ]
    },
    {
      "cell_type": "code",
      "metadata": {
        "id": "hVp2cptZYCP_",
        "colab_type": "code",
        "outputId": "d83fb766-8f44-48d6-ade0-57f07ed37d48",
        "colab": {
          "base_uri": "https://localhost:8080/",
          "height": 34
        }
      },
      "source": [
        "print(centerWordVec.grad)"
      ],
      "execution_count": 59,
      "outputs": [
        {
          "output_type": "stream",
          "text": [
            "tensor([[ 4.8997,  0.4637, -0.4712]])\n"
          ],
          "name": "stdout"
        }
      ]
    },
    {
      "cell_type": "code",
      "metadata": {
        "id": "pOZ5deDdY1BI",
        "colab_type": "code",
        "colab": {}
      },
      "source": [
        "def softmax(x):\n",
        "    \"\"\"Compute the softmax function for each row of the input x.\n",
        "    It is crucial that this function is optimized for speed because\n",
        "    it will be used frequently in later code. \n",
        "\n",
        "    Arguments:\n",
        "    x -- A D dimensional vector or N x D dimensional numpy matrix.\n",
        "    Return:\n",
        "    x -- You are allowed to modify x in-place\n",
        "    \"\"\"\n",
        "    orig_shape = x.shape\n",
        "\n",
        "    if len(x.shape) > 1:\n",
        "        # Matrix\n",
        "        tmp = np.max(x, axis=1)\n",
        "        x -= tmp.reshape((x.shape[0], 1))\n",
        "        x = np.exp(x)\n",
        "        tmp = np.sum(x, axis=1)\n",
        "        x /= tmp.reshape((x.shape[0], 1))\n",
        "    else:\n",
        "        # Vector\n",
        "        tmp = np.max(x)\n",
        "        x -= tmp\n",
        "        x = np.exp(x)\n",
        "        tmp = np.sum(x)\n",
        "        x /= tmp\n",
        "\n",
        "    assert x.shape == orig_shape\n",
        "    return x"
      ],
      "execution_count": 0,
      "outputs": []
    },
    {
      "cell_type": "code",
      "metadata": {
        "id": "xxaCzDgIYSaW",
        "colab_type": "code",
        "colab": {}
      },
      "source": [
        "outsideVectors_np = outsideVectors.data.numpy()\n",
        "centerWordVec_np = centerWordVec.data.numpy()"
      ],
      "execution_count": 0,
      "outputs": []
    },
    {
      "cell_type": "code",
      "metadata": {
        "id": "u5xCysEsYxJ_",
        "colab_type": "code",
        "outputId": "c763550f-fabd-4d59-90a5-98aafaa03144",
        "colab": {
          "base_uri": "https://localhost:8080/",
          "height": 102
        }
      },
      "source": [
        "outsideVectors_np"
      ],
      "execution_count": 25,
      "outputs": [
        {
          "output_type": "execute_result",
          "data": {
            "text/plain": [
              "array([[1., 6., 3.],\n",
              "       [2., 4., 1.],\n",
              "       [6., 4., 2.],\n",
              "       [2., 5., 4.],\n",
              "       [4., 6., 1.]], dtype=float32)"
            ]
          },
          "metadata": {
            "tags": []
          },
          "execution_count": 25
        }
      ]
    },
    {
      "cell_type": "code",
      "metadata": {
        "id": "UwvFMZSzZwe0",
        "colab_type": "code",
        "outputId": "02e57323-e5ae-48b0-fc50-78140b48c44e",
        "colab": {
          "base_uri": "https://localhost:8080/",
          "height": 34
        }
      },
      "source": [
        "centerWordVec_np"
      ],
      "execution_count": 26,
      "outputs": [
        {
          "output_type": "execute_result",
          "data": {
            "text/plain": [
              "array([[1., 1., 1.]], dtype=float32)"
            ]
          },
          "metadata": {
            "tags": []
          },
          "execution_count": 26
        }
      ]
    },
    {
      "cell_type": "code",
      "metadata": {
        "id": "4ewzZDt_aHA0",
        "colab_type": "code",
        "colab": {}
      },
      "source": [
        "x_np = np.matmul(outsideVectors_np,np.transpose(centerWordVec_np))"
      ],
      "execution_count": 0,
      "outputs": []
    },
    {
      "cell_type": "code",
      "metadata": {
        "id": "BYl_QmHIYJXv",
        "colab_type": "code",
        "colab": {}
      },
      "source": [
        "# Loss function\n",
        "\n",
        "#x_np = np.matmul(outsideVectors_np,np.transpose(centerWordVec_np))\n",
        "y_hat_np =  y_hat.data.numpy()\n",
        "loss_np1 = -np.log(y_hat_np[1])\n",
        "\n"
      ],
      "execution_count": 0,
      "outputs": []
    },
    {
      "cell_type": "code",
      "metadata": {
        "id": "Z9j0D7APA7ah",
        "colab_type": "code",
        "colab": {}
      },
      "source": [
        "# Loss function\n",
        "\n",
        "#x_np = np.matmul(outsideVectors_np,np.transpose(centerWordVec_np))\n",
        "y_hat_np =  y_hat.data.numpy()\n",
        "loss_np3 = -np.log(y_hat_np[3])"
      ],
      "execution_count": 0,
      "outputs": []
    },
    {
      "cell_type": "code",
      "metadata": {
        "id": "Jy71D5kvBH4c",
        "colab_type": "code",
        "colab": {}
      },
      "source": [
        "loss_np = loss_np1+ loss_np3"
      ],
      "execution_count": 0,
      "outputs": []
    },
    {
      "cell_type": "code",
      "metadata": {
        "id": "Cw5NsNd7BNFl",
        "colab_type": "code",
        "colab": {
          "base_uri": "https://localhost:8080/",
          "height": 34
        },
        "outputId": "e693940d-9a3f-4522-bd26-ff219db6ecd3"
      },
      "source": [
        "loss_np"
      ],
      "execution_count": 31,
      "outputs": [
        {
          "output_type": "execute_result",
          "data": {
            "text/plain": [
              "array([7.260236], dtype=float32)"
            ]
          },
          "metadata": {
            "tags": []
          },
          "execution_count": 31
        }
      ]
    },
    {
      "cell_type": "code",
      "metadata": {
        "id": "Ufx7IG7YA0BC",
        "colab_type": "code",
        "colab": {}
      },
      "source": [
        "# Gradient of vc = Ut (y-yhat)\n",
        "y_1 = np.zeros(y_hat_np.shape)\n",
        "y_1[1] = 1\n",
        "Ind_grad  = y_1 - y_hat_np\n",
        "gradCenterVec_1 = -(np.dot(np.transpose(Ind_grad),outsideVectors_np))"
      ],
      "execution_count": 0,
      "outputs": []
    },
    {
      "cell_type": "code",
      "metadata": {
        "id": "Btjs7tdhBHFq",
        "colab_type": "code",
        "colab": {}
      },
      "source": [
        "# Gradient of vc = Ut (y-yhat)\n",
        "y_3 = np.zeros(y_hat_np.shape)\n",
        "y_3[3] = 1\n",
        "Ind_grad  = y_3 - y_hat_np\n",
        "gradCenterVec_3 = -(np.dot(np.transpose(Ind_grad),outsideVectors_np))"
      ],
      "execution_count": 0,
      "outputs": []
    },
    {
      "cell_type": "code",
      "metadata": {
        "id": "l7dJ64nYB_2x",
        "colab_type": "code",
        "colab": {}
      },
      "source": [
        "#tensor([[ 4.8997,  0.4637, -0.4712]])"
      ],
      "execution_count": 0,
      "outputs": []
    },
    {
      "cell_type": "code",
      "metadata": {
        "id": "YNc5xkPhB5dC",
        "colab_type": "code",
        "colab": {
          "base_uri": "https://localhost:8080/",
          "height": 34
        },
        "outputId": "97fbc139-a43c-4d3c-f0e6-536834ea4464"
      },
      "source": [
        "gradCenterVec_1+gradCenterVec_3"
      ],
      "execution_count": 69,
      "outputs": [
        {
          "output_type": "execute_result",
          "data": {
            "text/plain": [
              "array([[ 4.89971709,  0.46371791, -0.47122379]])"
            ]
          },
          "metadata": {
            "tags": []
          },
          "execution_count": 69
        }
      ]
    },
    {
      "cell_type": "code",
      "metadata": {
        "id": "_CunA9cxbWwV",
        "colab_type": "code",
        "colab": {}
      },
      "source": [
        "# Gradient of Outisde Matrix U =  (yhat - y)T.Vc\n",
        "  v_exp = centerWordVec_np\n",
        "  Ind_grad_exp = y_hat_np-y_1\n",
        "  gradOutsideVecs_1 = np.dot(Ind_grad_exp,v_exp)"
      ],
      "execution_count": 0,
      "outputs": []
    },
    {
      "cell_type": "code",
      "metadata": {
        "id": "mKur3s9jCcJk",
        "colab_type": "code",
        "colab": {}
      },
      "source": [
        "# Gradient of Outisde Matrix U =  (yhat - y)T.Vc\n",
        "  v_exp = centerWordVec_np\n",
        "  Ind_grad_exp = y_hat_np-y_3\n",
        "  gradOutsideVecs_3 = np.dot(Ind_grad_exp,v_exp)"
      ],
      "execution_count": 0,
      "outputs": []
    },
    {
      "cell_type": "code",
      "metadata": {
        "id": "4gmK3ZtWCoYp",
        "colab_type": "code",
        "colab": {}
      },
      "source": [
        "tensor([[ 0.1441,  0.1441,  0.1441],\n",
        "        [-0.9928, -0.9928, -0.9928],\n",
        "        [ 1.0651,  1.0651,  1.0651],\n",
        "        [-0.6082, -0.6082, -0.6082],\n",
        "        [ 0.3918,  0.3918,  0.3918]])"
      ],
      "execution_count": 0,
      "outputs": []
    },
    {
      "cell_type": "code",
      "metadata": {
        "id": "O5ZXZtbwChyY",
        "colab_type": "code",
        "colab": {
          "base_uri": "https://localhost:8080/",
          "height": 102
        },
        "outputId": "dd23e786-7401-4b1b-bfa4-f5ad8ec509b6"
      },
      "source": [
        "gradOutsideVecs_1+gradOutsideVecs_3"
      ],
      "execution_count": 75,
      "outputs": [
        {
          "output_type": "execute_result",
          "data": {
            "text/plain": [
              "array([[ 0.1441399 ,  0.1441399 ,  0.1441399 ],\n",
              "       [-0.9928237 , -0.9928237 , -0.9928237 ],\n",
              "       [ 1.06505787,  1.06505787,  1.06505787],\n",
              "       [-0.60818711, -0.60818711, -0.60818711],\n",
              "       [ 0.39181289,  0.39181289,  0.39181289]])"
            ]
          },
          "metadata": {
            "tags": []
          },
          "execution_count": 75
        }
      ]
    },
    {
      "cell_type": "code",
      "metadata": {
        "id": "LA9YImQUabTd",
        "colab_type": "code",
        "outputId": "20f063a5-c676-4437-e4cb-c5e759516e2e",
        "colab": {
          "base_uri": "https://localhost:8080/",
          "height": 34
        }
      },
      "source": [
        "gradCenterVec"
      ],
      "execution_count": 0,
      "outputs": [
        {
          "output_type": "execute_result",
          "data": {
            "text/plain": [
              "array([[-1.55014145,  0.73185896,  0.2643881 ]])"
            ]
          },
          "metadata": {
            "tags": []
          },
          "execution_count": 103
        }
      ]
    },
    {
      "cell_type": "code",
      "metadata": {
        "id": "f9H9Rz7icFWV",
        "colab_type": "code",
        "colab": {}
      },
      "source": [
        "tensor([[ 0.0721,  0.0721,  0.0721],\n",
        "        [ 0.0036,  0.0036,  0.0036],\n",
        "        [-0.4675, -0.4675, -0.4675],\n",
        "        [ 0.1959,  0.1959,  0.1959],\n",
        "        [ 0.1959,  0.1959,  0.1959]])"
      ],
      "execution_count": 0,
      "outputs": []
    },
    {
      "cell_type": "code",
      "metadata": {
        "id": "W32BjWVPb-KX",
        "colab_type": "code",
        "outputId": "60eb3e27-ba80-4ac7-e56d-ab26b7e5f906",
        "colab": {
          "base_uri": "https://localhost:8080/",
          "height": 102
        }
      },
      "source": [
        "gradOutsideVecs"
      ],
      "execution_count": 0,
      "outputs": [
        {
          "output_type": "execute_result",
          "data": {
            "text/plain": [
              "array([[ 0.07206995,  0.07206995,  0.07206995],\n",
              "       [ 0.00358815,  0.00358815,  0.00358815],\n",
              "       [-0.46747106, -0.46747106, -0.46747106],\n",
              "       [ 0.19590645,  0.19590645,  0.19590645],\n",
              "       [ 0.19590645,  0.19590645,  0.19590645]])"
            ]
          },
          "metadata": {
            "tags": []
          },
          "execution_count": 106
        }
      ]
    },
    {
      "cell_type": "code",
      "metadata": {
        "id": "Irq34HlhZroQ",
        "colab_type": "code",
        "outputId": "f947c2cd-192f-41e4-e5b3-10199f76e968",
        "colab": {
          "base_uri": "https://localhost:8080/",
          "height": 102
        }
      },
      "source": [
        "x_np"
      ],
      "execution_count": 0,
      "outputs": [
        {
          "output_type": "execute_result",
          "data": {
            "text/plain": [
              "array([[10.],\n",
              "       [ 7.],\n",
              "       [12.],\n",
              "       [11.],\n",
              "       [11.]], dtype=float32)"
            ]
          },
          "metadata": {
            "tags": []
          },
          "execution_count": 94
        }
      ]
    },
    {
      "cell_type": "code",
      "metadata": {
        "id": "6Rh236wiZoFA",
        "colab_type": "code",
        "outputId": "38c72953-55a6-42cc-ff52-c6f3669e15cf",
        "colab": {
          "base_uri": "https://localhost:8080/",
          "height": 102
        }
      },
      "source": [
        "y_hat_np"
      ],
      "execution_count": 0,
      "outputs": [
        {
          "output_type": "execute_result",
          "data": {
            "text/plain": [
              "array([[1.],\n",
              "       [1.],\n",
              "       [1.],\n",
              "       [1.],\n",
              "       [1.]], dtype=float32)"
            ]
          },
          "metadata": {
            "tags": []
          },
          "execution_count": 85
        }
      ]
    },
    {
      "cell_type": "code",
      "metadata": {
        "id": "dWLX0rDNZfv2",
        "colab_type": "code",
        "outputId": "28c8639b-db7b-463f-ca1a-33e842bffb6c",
        "colab": {
          "base_uri": "https://localhost:8080/",
          "height": 34
        }
      },
      "source": [
        "loss_np"
      ],
      "execution_count": 0,
      "outputs": [
        {
          "output_type": "execute_result",
          "data": {
            "text/plain": [
              "array([-0.], dtype=float32)"
            ]
          },
          "metadata": {
            "tags": []
          },
          "execution_count": 84
        }
      ]
    },
    {
      "cell_type": "code",
      "metadata": {
        "id": "Vw2RJ26DYRpn",
        "colab_type": "code",
        "outputId": "2131f349-2dcd-43ee-99fd-91c140b326ab",
        "colab": {
          "base_uri": "https://localhost:8080/",
          "height": 34
        }
      },
      "source": [
        "gradCenterVec"
      ],
      "execution_count": 0,
      "outputs": [
        {
          "output_type": "execute_result",
          "data": {
            "text/plain": [
              "array([[ -9., -21.,  -9.]])"
            ]
          },
          "metadata": {
            "tags": []
          },
          "execution_count": 83
        }
      ]
    },
    {
      "cell_type": "code",
      "metadata": {
        "id": "VkH9fyCkHWxb",
        "colab_type": "code",
        "outputId": "2001f623-826f-459d-b1e2-5374e80037d1",
        "colab": {
          "base_uri": "https://localhost:8080/",
          "height": 300
        }
      },
      "source": [
        "import torch.nn.NLLLoss"
      ],
      "execution_count": 0,
      "outputs": [
        {
          "output_type": "error",
          "ename": "ModuleNotFoundError",
          "evalue": "ignored",
          "traceback": [
            "\u001b[0;31m---------------------------------------------------------------------------\u001b[0m",
            "\u001b[0;31mModuleNotFoundError\u001b[0m                       Traceback (most recent call last)",
            "\u001b[0;32m<ipython-input-24-ba1b88d19ff3>\u001b[0m in \u001b[0;36m<module>\u001b[0;34m()\u001b[0m\n\u001b[0;32m----> 1\u001b[0;31m \u001b[0;32mimport\u001b[0m \u001b[0mtorch\u001b[0m\u001b[0;34m.\u001b[0m\u001b[0mnn\u001b[0m\u001b[0;34m.\u001b[0m\u001b[0mNLLLoss\u001b[0m\u001b[0;34m\u001b[0m\u001b[0;34m\u001b[0m\u001b[0m\n\u001b[0m",
            "\u001b[0;31mModuleNotFoundError\u001b[0m: No module named 'torch.nn.NLLLoss'",
            "",
            "\u001b[0;31m---------------------------------------------------------------------------\u001b[0;32m\nNOTE: If your import is failing due to a missing package, you can\nmanually install dependencies using either !pip or !apt.\n\nTo view examples of installing some common dependencies, click the\n\"Open Examples\" button below.\n\u001b[0;31m---------------------------------------------------------------------------\u001b[0m\n"
          ]
        }
      ]
    },
    {
      "cell_type": "code",
      "metadata": {
        "id": "iKEL7I5yNZrU",
        "colab_type": "code",
        "colab": {}
      },
      "source": [
        ""
      ],
      "execution_count": 0,
      "outputs": []
    }
  ]
}